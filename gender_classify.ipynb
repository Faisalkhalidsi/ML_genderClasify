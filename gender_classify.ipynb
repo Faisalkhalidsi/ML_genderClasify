{
 "cells": [
  {
   "cell_type": "code",
   "execution_count": 1,
   "metadata": {
    "collapsed": true,
    "deletable": true,
    "editable": true
   },
   "outputs": [],
   "source": [
    "from sklearn.naive_bayes import GaussianNB\n",
    "from sklearn import tree\n",
    "from sklearn.svm import SVC\n",
    "from sklearn.linear_model import Perceptron\n",
    "from sklearn.neighbors import KNeighborsClassifier"
   ]
  },
  {
   "cell_type": "code",
   "execution_count": 2,
   "metadata": {
    "collapsed": false,
    "deletable": true,
    "editable": true
   },
   "outputs": [],
   "source": [
    "import matplotlib.pyplot as plt\n",
    "import numpy as np"
   ]
  },
  {
   "cell_type": "code",
   "execution_count": 3,
   "metadata": {
    "collapsed": true,
    "deletable": true,
    "editable": true
   },
   "outputs": [],
   "source": [
    "from sklearn.metrics import accuracy_score"
   ]
  },
  {
   "cell_type": "code",
   "execution_count": 4,
   "metadata": {
    "collapsed": true,
    "deletable": true,
    "editable": true
   },
   "outputs": [],
   "source": [
    "# training data\n",
    "# [height, weight, shoe size]\n",
    "X = [[181,80,40], [177,70,43], [160,60,39], [154,54,37], \n",
    "     [166,54,40], [190,90,47], [175,64,39], [177,70,40],\n",
    "     [159,55,37], [171,75,42], [181,85,43]]"
   ]
  },
  {
   "cell_type": "code",
   "execution_count": 5,
   "metadata": {
    "collapsed": true,
    "deletable": true,
    "editable": true
   },
   "outputs": [],
   "source": [
    "# training label\n",
    "Y = ['male', 'female', 'female', 'female',\n",
    "     'male', 'male','male', 'female', \n",
    "     'male',' female', 'male']"
   ]
  },
  {
   "cell_type": "code",
   "execution_count": 6,
   "metadata": {
    "collapsed": true
   },
   "outputs": [],
   "source": [
    "# testing data\n",
    "# [height, weight, shoe size]\n",
    "X_test=[[198,92,48],[184,84,44],[183,83,44],[166,47,36],\n",
    "        [170,60,38],[172,64,39],[182,80,42],[180,80,43]]"
   ]
  },
  {
   "cell_type": "code",
   "execution_count": 7,
   "metadata": {
    "collapsed": true
   },
   "outputs": [],
   "source": [
    "# testing label\n",
    "Y_test=['male','male','male','female','female','female','male','male']"
   ]
  },
  {
   "cell_type": "code",
   "execution_count": 8,
   "metadata": {
    "collapsed": true,
    "deletable": true,
    "editable": true
   },
   "outputs": [],
   "source": [
    "# classifiers\n",
    "clf_gnb = GaussianNB()\n",
    "clf_tree = tree.DecisionTreeClassifier()\n",
    "clf_svm = SVC(kernel='rbf')\n",
    "clf_perceptron = Perceptron()\n",
    "clf_KNN = KNeighborsClassifier()"
   ]
  },
  {
   "cell_type": "code",
   "execution_count": 9,
   "metadata": {
    "collapsed": false,
    "deletable": true,
    "editable": true
   },
   "outputs": [
    {
     "data": {
      "text/plain": [
       "KNeighborsClassifier(algorithm='auto', leaf_size=30, metric='minkowski',\n",
       "           metric_params=None, n_jobs=1, n_neighbors=5, p=2,\n",
       "           weights='uniform')"
      ]
     },
     "execution_count": 9,
     "metadata": {},
     "output_type": "execute_result"
    }
   ],
   "source": [
    "#trainings\n",
    "clf_gnb.fit(X,Y)\n",
    "clf_tree.fit(X, Y)\n",
    "clf_svm.fit(X, Y)\n",
    "clf_perceptron.fit(X, Y)\n",
    "clf_KNN.fit(X, Y)"
   ]
  },
  {
   "cell_type": "code",
   "execution_count": 10,
   "metadata": {
    "collapsed": false
   },
   "outputs": [
    {
     "name": "stdout",
     "output_type": "stream",
     "text": [
      "Prediction using Naives Bayes:  ['male' 'male' 'male' 'male' 'female' 'female' 'male' 'male']\n",
      "Accuracy for Naives Bayes: 87.5\n"
     ]
    }
   ],
   "source": [
    "# prediction by Naives Bayes\n",
    "pred_gnb = clf_gnb.predict(X_test)\n",
    "acc_gnb = accuracy_score(Y_test, pred_gnb) * 100\n",
    "print 'Prediction using Naives Bayes: ', pred_gnb\n",
    "print('Accuracy for Naives Bayes: {}'.format(acc_gnb))"
   ]
  },
  {
   "cell_type": "code",
   "execution_count": 11,
   "metadata": {
    "collapsed": false
   },
   "outputs": [
    {
     "name": "stdout",
     "output_type": "stream",
     "text": [
      "Prediction using DecisionTree:  ['male' 'male' 'male' 'male' 'male' 'male' 'male' 'male']\n",
      "Accuracy for DecisionTree: 62.5\n"
     ]
    }
   ],
   "source": [
    "# prediction by tree\n",
    "pred_tree = clf_tree.predict(X_test)\n",
    "acc_tree = accuracy_score(Y_test, pred_tree) * 100\n",
    "print 'Prediction using DecisionTree: ', pred_tree\n",
    "print('Accuracy for DecisionTree: {}'.format(acc_tree))"
   ]
  },
  {
   "cell_type": "code",
   "execution_count": 12,
   "metadata": {
    "collapsed": false
   },
   "outputs": [
    {
     "name": "stdout",
     "output_type": "stream",
     "text": [
      "Prediction using SVM:  ['male' 'male' 'male' 'male' 'male' 'male' 'male' 'male']\n",
      "Accuracy for SVM: 62.5\n"
     ]
    }
   ],
   "source": [
    "# prediction by SVM\n",
    "pred_svm = clf_svm.predict(X_test)\n",
    "acc_svm = accuracy_score(Y_test, pred_svm) * 100\n",
    "print 'Prediction using SVM: ', pred_svm\n",
    "print('Accuracy for SVM: {}'.format(acc_svm))"
   ]
  },
  {
   "cell_type": "code",
   "execution_count": 13,
   "metadata": {
    "collapsed": false
   },
   "outputs": [
    {
     "name": "stdout",
     "output_type": "stream",
     "text": [
      "Prediction using Perceptron:  ['female' 'female' 'female' 'female' 'female' 'female' 'female' 'female']\n",
      "Accuracy for Perceptron: 37.5\n"
     ]
    }
   ],
   "source": [
    "# prediction by perceptron\n",
    "pred_perceptron = clf_perceptron.predict(X_test)\n",
    "acc_perceptron = accuracy_score(Y_test, pred_perceptron) * 100\n",
    "print 'Prediction using Perceptron: ', pred_perceptron\n",
    "print('Accuracy for Perceptron: {}'.format(acc_perceptron))"
   ]
  },
  {
   "cell_type": "code",
   "execution_count": 14,
   "metadata": {
    "collapsed": false
   },
   "outputs": [
    {
     "name": "stdout",
     "output_type": "stream",
     "text": [
      "Prediction using kNN:  ['male' 'male' 'male' 'male' 'male' 'female' 'female' 'female']\n",
      "Accuracy for kNN: 50.0\n"
     ]
    }
   ],
   "source": [
    "# prediction by kNN\n",
    "pred_kNN = clf_KNN.predict(X_test)\n",
    "acc_kNN= accuracy_score(Y_test, pred_kNN) * 100\n",
    "print 'Prediction using kNN: ', pred_kNN\n",
    "print('Accuracy for kNN: {}'.format(acc_kNN))"
   ]
  },
  {
   "cell_type": "code",
   "execution_count": 15,
   "metadata": {
    "collapsed": false
   },
   "outputs": [
    {
     "name": "stdout",
     "output_type": "stream",
     "text": [
      "Best gender classifier is Naives Bayes\n"
     ]
    }
   ],
   "source": [
    "# classifier which the best accuracy\n",
    "index = np.argmax([acc_gnb,acc_tree,acc_svm, acc_perceptron, acc_kNN])\n",
    "classifiers = {0: 'Naives Bayes', 1: 'Decision Tree', 2: 'SVM', 3: 'Perceptron',4:'Nearest Neighbour'}\n",
    "print('Best gender classifier is {}'.format(classifiers[index]))"
   ]
  },
  {
   "cell_type": "code",
   "execution_count": 16,
   "metadata": {
    "collapsed": false,
    "deletable": true,
    "editable": true
   },
   "outputs": [
    {
     "data": {
      "image/png": "[encoded data removed]",
      "text/plain": [
       "<matplotlib.figure.Figure at 0x7f5618167b50>"
      ]
     },
     "metadata": {},
     "output_type": "display_data"
    }
   ],
   "source": [
    "# plot training and testing data\n",
    "# blue are training data\n",
    "# red are testing data\n",
    "figure = plt.figure(figsize=(50, 30))\n",
    "ax = plt.subplot(len(X), len(Y) + 1, 11)\n",
    "ax.set_title(\"Input data\")\n",
    "trainList2 = [(elem1, elem2,elem3) for elem1, elem2 ,elem3 in X]\n",
    "testList2 = [(elem1, elem2,elem3) for elem1, elem2 ,elem3 in X_test]\n",
    "plt.scatter(*zip(*trainList2))\n",
    "plt.scatter(*zip(*testList2), color=['red'])\n",
    "plt.tight_layout()\n",
    "plt.show()"
   ]
  }
 ],
 "metadata": {
  "kernelspec": {
   "display_name": "Python 2",
   "language": "python",
   "name": "python2"
  },
  "language_info": {
   "codemirror_mode": {
    "name": "ipython",
    "version": 2
   },
   "file_extension": ".py",
   "mimetype": "text/x-python",
   "name": "python",
   "nbconvert_exporter": "python",
   "pygments_lexer": "ipython2",
   "version": "2.7.12"
  }
 },
 "nbformat": 4,
 "nbformat_minor": 2
}
